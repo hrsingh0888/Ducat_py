{
 "cells": [
  {
   "cell_type": "code",
   "execution_count": 5,
   "id": "0ef35ac9-e6d1-4787-b0dd-ed754c4e9a29",
   "metadata": {},
   "outputs": [
    {
     "name": "stdout",
     "output_type": "stream",
     "text": [
      "hello World. My name is Harsh Kumar\n"
     ]
    }
   ],
   "source": [
    "str = 'hello World. My name is Harsh Kumar'\n",
    "print(str)"
   ]
  },
  {
   "cell_type": "code",
   "execution_count": 6,
   "id": "6b4f56a3-a3c3-4037-b9c7-d3df3abc7d7d",
   "metadata": {},
   "outputs": [
    {
     "data": {
      "text/plain": [
       "str"
      ]
     },
     "execution_count": 6,
     "metadata": {},
     "output_type": "execute_result"
    }
   ],
   "source": [
    "type(str)"
   ]
  },
  {
   "cell_type": "code",
   "execution_count": 7,
   "id": "096143b0-8da2-43f4-8940-cd1ed1b64687",
   "metadata": {},
   "outputs": [
    {
     "data": {
      "text/plain": [
       "'Hello world. my name is harsh kumar'"
      ]
     },
     "execution_count": 7,
     "metadata": {},
     "output_type": "execute_result"
    }
   ],
   "source": [
    "str.capitalize()"
   ]
  },
  {
   "cell_type": "code",
   "execution_count": 8,
   "id": "1ed5261a-6711-4902-983e-f80077def335",
   "metadata": {},
   "outputs": [
    {
     "data": {
      "text/plain": [
       "'hello world. my name is harsh kumar'"
      ]
     },
     "execution_count": 8,
     "metadata": {},
     "output_type": "execute_result"
    }
   ],
   "source": [
    "str.casefold()"
   ]
  },
  {
   "cell_type": "code",
   "execution_count": 9,
   "id": "d753d76a-4945-4ef9-86f9-56253adabade",
   "metadata": {},
   "outputs": [
    {
     "data": {
      "text/plain": [
       "'Hello World. My Name Is Harsh Kumar'"
      ]
     },
     "execution_count": 9,
     "metadata": {},
     "output_type": "execute_result"
    }
   ],
   "source": [
    "str.title()"
   ]
  },
  {
   "cell_type": "code",
   "execution_count": 10,
   "id": "17c48d20-cb34-4a3b-9179-87bf243867d3",
   "metadata": {},
   "outputs": [
    {
     "data": {
      "text/plain": [
       "'HELLO WORLD. MY NAME IS HARSH KUMAR'"
      ]
     },
     "execution_count": 10,
     "metadata": {},
     "output_type": "execute_result"
    }
   ],
   "source": [
    "str.upper()"
   ]
  },
  {
   "cell_type": "code",
   "execution_count": 11,
   "id": "cd82efd5-7730-494f-869d-0489f21820c5",
   "metadata": {},
   "outputs": [
    {
     "data": {
      "text/plain": [
       "'hello world. my name is harsh kumar'"
      ]
     },
     "execution_count": 11,
     "metadata": {},
     "output_type": "execute_result"
    }
   ],
   "source": [
    "str.lower()"
   ]
  },
  {
   "cell_type": "code",
   "execution_count": 12,
   "id": "45e6c611-8b6b-4c40-a648-c3f12e32ffb5",
   "metadata": {},
   "outputs": [
    {
     "data": {
      "text/plain": [
       "'HELLO wORLD. mY NAME IS hARSH kUMAR'"
      ]
     },
     "execution_count": 12,
     "metadata": {},
     "output_type": "execute_result"
    }
   ],
   "source": [
    "str.swapcase()"
   ]
  },
  {
   "cell_type": "code",
   "execution_count": 15,
   "id": "e4a55600-1580-4e4c-8743-7a7d20ef1d31",
   "metadata": {},
   "outputs": [
    {
     "data": {
      "text/plain": [
       "'**hello World. My name is Harsh Kumar***'"
      ]
     },
     "execution_count": 15,
     "metadata": {},
     "output_type": "execute_result"
    }
   ],
   "source": [
    "str.center(40, '*')"
   ]
  },
  {
   "cell_type": "code",
   "execution_count": 18,
   "id": "0f4c8559-183e-45e2-8dae-363b48703b75",
   "metadata": {},
   "outputs": [
    {
     "data": {
      "text/plain": [
       "'hello World. My name is Harsh Kumar-----'"
      ]
     },
     "execution_count": 18,
     "metadata": {},
     "output_type": "execute_result"
    }
   ],
   "source": [
    "str.ljust(40,'-')"
   ]
  },
  {
   "cell_type": "code",
   "execution_count": 19,
   "id": "adf9170b-027c-4cec-999d-5e368f434eac",
   "metadata": {},
   "outputs": [
    {
     "data": {
      "text/plain": [
       "'-----hello World. My name is Harsh Kumar'"
      ]
     },
     "execution_count": 19,
     "metadata": {},
     "output_type": "execute_result"
    }
   ],
   "source": [
    "str.rjust(40,'-')"
   ]
  },
  {
   "cell_type": "code",
   "execution_count": 20,
   "id": "854738fa-a195-435c-af60-9707345494cf",
   "metadata": {},
   "outputs": [
    {
     "data": {
      "text/plain": [
       "3"
      ]
     },
     "execution_count": 20,
     "metadata": {},
     "output_type": "execute_result"
    }
   ],
   "source": [
    "str.count('a')"
   ]
  },
  {
   "cell_type": "code",
   "execution_count": 21,
   "id": "bd048255-0ab3-4af9-bf1e-8d22c45c4372",
   "metadata": {},
   "outputs": [
    {
     "data": {
      "text/plain": [
       "0"
      ]
     },
     "execution_count": 21,
     "metadata": {},
     "output_type": "execute_result"
    }
   ],
   "source": [
    "str.count('A')"
   ]
  },
  {
   "cell_type": "code",
   "execution_count": 22,
   "id": "20e56a8b-5e08-4e5d-bd3d-340451fc645e",
   "metadata": {},
   "outputs": [
    {
     "data": {
      "text/plain": [
       "6"
      ]
     },
     "execution_count": 22,
     "metadata": {},
     "output_type": "execute_result"
    }
   ],
   "source": [
    "str.find('World')"
   ]
  },
  {
   "cell_type": "code",
   "execution_count": 23,
   "id": "06a665d7-a596-4b8f-94e8-a1ec02f9586e",
   "metadata": {},
   "outputs": [
    {
     "data": {
      "text/plain": [
       "6"
      ]
     },
     "execution_count": 23,
     "metadata": {},
     "output_type": "execute_result"
    }
   ],
   "source": [
    "str.rfind('World')"
   ]
  },
  {
   "cell_type": "code",
   "execution_count": 24,
   "id": "0f05c66a-ddbc-43d8-b661-9bf810ba88db",
   "metadata": {},
   "outputs": [
    {
     "data": {
      "text/plain": [
       "6"
      ]
     },
     "execution_count": 24,
     "metadata": {},
     "output_type": "execute_result"
    }
   ],
   "source": [
    "str.index('World')"
   ]
  },
  {
   "cell_type": "code",
   "execution_count": 26,
   "id": "cf07c8ef-6a8e-426d-bcb5-a2725931bafe",
   "metadata": {},
   "outputs": [
    {
     "data": {
      "text/plain": [
       "6"
      ]
     },
     "execution_count": 26,
     "metadata": {},
     "output_type": "execute_result"
    }
   ],
   "source": [
    "str.rindex('World')"
   ]
  },
  {
   "cell_type": "code",
   "execution_count": 29,
   "id": "820df6f7-0c31-4717-b767-e951e914d5e9",
   "metadata": {},
   "outputs": [
    {
     "data": {
      "text/plain": [
       "b'hello World. My name is Harsh Kumar'"
      ]
     },
     "execution_count": 29,
     "metadata": {},
     "output_type": "execute_result"
    }
   ],
   "source": [
    "str.encode()"
   ]
  },
  {
   "cell_type": "code",
   "execution_count": 30,
   "id": "2975a11b-c3df-435b-8b70-fc6bd0984bfc",
   "metadata": {},
   "outputs": [
    {
     "data": {
      "text/plain": [
       "False"
      ]
     },
     "execution_count": 30,
     "metadata": {},
     "output_type": "execute_result"
    }
   ],
   "source": [
    "str.endswith('am')"
   ]
  },
  {
   "cell_type": "code",
   "execution_count": 32,
   "id": "7a60178d-6315-4533-8af5-0aaf1113d14a",
   "metadata": {},
   "outputs": [
    {
     "data": {
      "text/plain": [
       "False"
      ]
     },
     "execution_count": 32,
     "metadata": {},
     "output_type": "execute_result"
    }
   ],
   "source": [
    "str.startswith('He')"
   ]
  },
  {
   "cell_type": "code",
   "execution_count": 33,
   "id": "a568af1a-a835-41b3-9101-9c6795a7eabe",
   "metadata": {},
   "outputs": [
    {
     "data": {
      "text/plain": [
       "True"
      ]
     },
     "execution_count": 33,
     "metadata": {},
     "output_type": "execute_result"
    }
   ],
   "source": [
    "str.startswith('he')"
   ]
  },
  {
   "cell_type": "code",
   "execution_count": 35,
   "id": "e2010fc7-fdf9-4eed-9846-9261a38890f7",
   "metadata": {},
   "outputs": [
    {
     "data": {
      "text/plain": [
       "'hello World. My name is Harsh Kumar'"
      ]
     },
     "execution_count": 35,
     "metadata": {},
     "output_type": "execute_result"
    }
   ],
   "source": [
    "str.expandtabs(40)"
   ]
  },
  {
   "cell_type": "code",
   "execution_count": 36,
   "id": "226bac68-d972-4755-b507-aa3605a85832",
   "metadata": {},
   "outputs": [
    {
     "data": {
      "text/plain": [
       "'hello, Everyone'"
      ]
     },
     "execution_count": 36,
     "metadata": {},
     "output_type": "execute_result"
    }
   ],
   "source": [
    "\"hello, {}\".format(\"Everyone\")"
   ]
  },
  {
   "cell_type": "code",
   "execution_count": 37,
   "id": "9ba76294-2598-4d5c-8347-f9cc75233cf4",
   "metadata": {},
   "outputs": [
    {
     "data": {
      "text/plain": [
       "'Price:10'"
      ]
     },
     "execution_count": 37,
     "metadata": {},
     "output_type": "execute_result"
    }
   ],
   "source": [
    "\"Price:{price}\".format_map({\"price\" : 10})"
   ]
  },
  {
   "cell_type": "code",
   "execution_count": 38,
   "id": "1bc5ea6e-fa03-4b4e-aa65-d26907fa72cb",
   "metadata": {},
   "outputs": [
    {
     "data": {
      "text/plain": [
       "True"
      ]
     },
     "execution_count": 38,
     "metadata": {},
     "output_type": "execute_result"
    }
   ],
   "source": [
    "\"axzz125\".isalnum()"
   ]
  },
  {
   "cell_type": "code",
   "execution_count": 39,
   "id": "36193ec2-929f-47ac-8a1d-f7d1433a1d4b",
   "metadata": {},
   "outputs": [
    {
     "data": {
      "text/plain": [
       "True"
      ]
     },
     "execution_count": 39,
     "metadata": {},
     "output_type": "execute_result"
    }
   ],
   "source": [
    "\"axzz\".isalpha()"
   ]
  },
  {
   "cell_type": "code",
   "execution_count": 40,
   "id": "da115671-73b0-4732-879c-afe1a3df57a1",
   "metadata": {},
   "outputs": [
    {
     "data": {
      "text/plain": [
       "True"
      ]
     },
     "execution_count": 40,
     "metadata": {},
     "output_type": "execute_result"
    }
   ],
   "source": [
    "\"125\".isdigit()"
   ]
  },
  {
   "cell_type": "code",
   "execution_count": 41,
   "id": "fe2a8e04-400c-4b4e-b562-77da3bfaa99f",
   "metadata": {},
   "outputs": [
    {
     "data": {
      "text/plain": [
       "True"
      ]
     },
     "execution_count": 41,
     "metadata": {},
     "output_type": "execute_result"
    }
   ],
   "source": [
    "\"125\".isdecimal()"
   ]
  },
  {
   "cell_type": "code",
   "execution_count": 42,
   "id": "b212e86a-ce01-4333-8721-e42bb5a99233",
   "metadata": {},
   "outputs": [
    {
     "data": {
      "text/plain": [
       "True"
      ]
     },
     "execution_count": 42,
     "metadata": {},
     "output_type": "execute_result"
    }
   ],
   "source": [
    "\"125\".isnumeric()"
   ]
  },
  {
   "cell_type": "code",
   "execution_count": 44,
   "id": "87a3917a-dbb9-45b2-9787-0cf6155f9fba",
   "metadata": {},
   "outputs": [
    {
     "data": {
      "text/plain": [
       "True"
      ]
     },
     "execution_count": 44,
     "metadata": {},
     "output_type": "execute_result"
    }
   ],
   "source": [
    "\"abc\".isascii()"
   ]
  },
  {
   "cell_type": "code",
   "execution_count": 45,
   "id": "406e2060-6c05-40d6-8372-acb3ac1f4de9",
   "metadata": {},
   "outputs": [
    {
     "data": {
      "text/plain": [
       "True"
      ]
     },
     "execution_count": 45,
     "metadata": {},
     "output_type": "execute_result"
    }
   ],
   "source": [
    "\"var_1\".isidentifier()"
   ]
  },
  {
   "cell_type": "code",
   "execution_count": 46,
   "id": "bb61401b-2322-4b5c-9d29-31ee1938371f",
   "metadata": {},
   "outputs": [
    {
     "data": {
      "text/plain": [
       "True"
      ]
     },
     "execution_count": 46,
     "metadata": {},
     "output_type": "execute_result"
    }
   ],
   "source": [
    "\"abc\".islower()"
   ]
  },
  {
   "cell_type": "code",
   "execution_count": 47,
   "id": "9002de6e-c4a0-4990-b425-6429eb4039a7",
   "metadata": {},
   "outputs": [
    {
     "data": {
      "text/plain": [
       "True"
      ]
     },
     "execution_count": 47,
     "metadata": {},
     "output_type": "execute_result"
    }
   ],
   "source": [
    "\"ABC\".isupper()"
   ]
  },
  {
   "cell_type": "code",
   "execution_count": 48,
   "id": "f273cec5-aeb2-479e-8099-7a0b353ab2d2",
   "metadata": {},
   "outputs": [
    {
     "data": {
      "text/plain": [
       "False"
      ]
     },
     "execution_count": 48,
     "metadata": {},
     "output_type": "execute_result"
    }
   ],
   "source": [
    "\"hello World\".istitle()"
   ]
  },
  {
   "cell_type": "code",
   "execution_count": 49,
   "id": "59d44a38-cb41-491d-9a8e-8ee52958a5de",
   "metadata": {},
   "outputs": [
    {
     "data": {
      "text/plain": [
       "True"
      ]
     },
     "execution_count": 49,
     "metadata": {},
     "output_type": "execute_result"
    }
   ],
   "source": [
    "\" \".isspace()"
   ]
  },
  {
   "cell_type": "code",
   "execution_count": 50,
   "id": "1e6c54e7-b79a-4855-8237-2c2b34a4a048",
   "metadata": {},
   "outputs": [
    {
     "data": {
      "text/plain": [
       "True"
      ]
     },
     "execution_count": 50,
     "metadata": {},
     "output_type": "execute_result"
    }
   ],
   "source": [
    "\"hello\".isprintable()"
   ]
  },
  {
   "cell_type": "code",
   "execution_count": 51,
   "id": "96ea3b58-4d36-41f2-8fe0-a34c641f5d67",
   "metadata": {},
   "outputs": [
    {
     "data": {
      "text/plain": [
       "'a,b,c'"
      ]
     },
     "execution_count": 51,
     "metadata": {},
     "output_type": "execute_result"
    }
   ],
   "source": [
    "\",\".join([\"a\", \"b\", \"c\"])"
   ]
  },
  {
   "cell_type": "code",
   "execution_count": 52,
   "id": "dd8f4a9c-b73b-41f4-a0a4-3c3b9eb572a4",
   "metadata": {},
   "outputs": [
    {
     "data": {
      "text/plain": [
       "'hello World. My name is Harsh Kumar'"
      ]
     },
     "execution_count": 52,
     "metadata": {},
     "output_type": "execute_result"
    }
   ],
   "source": [
    "str.strip()"
   ]
  },
  {
   "cell_type": "code",
   "execution_count": 55,
   "id": "62f73bdd-a967-4ed0-87db-97ee3372d3f0",
   "metadata": {},
   "outputs": [
    {
     "data": {
      "text/plain": [
       "'hello World. My name is Harsh Kumar'"
      ]
     },
     "execution_count": 55,
     "metadata": {},
     "output_type": "execute_result"
    }
   ],
   "source": [
    "str.lstrip()"
   ]
  },
  {
   "cell_type": "code",
   "execution_count": 56,
   "id": "2a7ba658-c9a0-4689-aaf6-a88fca06bf5b",
   "metadata": {},
   "outputs": [
    {
     "data": {
      "text/plain": [
       "'hello World. My name is Harsh Kumar'"
      ]
     },
     "execution_count": 56,
     "metadata": {},
     "output_type": "execute_result"
    }
   ],
   "source": [
    "str.rstrip()"
   ]
  },
  {
   "cell_type": "code",
   "execution_count": 58,
   "id": "f3cbd9e4-e75f-4a71-aa14-77b4c0c69564",
   "metadata": {},
   "outputs": [
    {
     "data": {
      "text/plain": [
       "['a', 'b', 'c']"
      ]
     },
     "execution_count": 58,
     "metadata": {},
     "output_type": "execute_result"
    }
   ],
   "source": [
    "\"a,b,c\".split(\",\")"
   ]
  },
  {
   "cell_type": "code",
   "execution_count": 59,
   "id": "93165f93-1d2a-4e32-b704-0115ad7f82d9",
   "metadata": {},
   "outputs": [
    {
     "data": {
      "text/plain": [
       "['a,b,c']"
      ]
     },
     "execution_count": 59,
     "metadata": {},
     "output_type": "execute_result"
    }
   ],
   "source": [
    "\"a,b,c\".split()"
   ]
  },
  {
   "cell_type": "code",
   "execution_count": 60,
   "id": "b55c75f2-a028-4f68-81f1-f22a07400908",
   "metadata": {},
   "outputs": [
    {
     "data": {
      "text/plain": [
       "['a\\n', 'b\\n', 'c']"
      ]
     },
     "execution_count": 60,
     "metadata": {},
     "output_type": "execute_result"
    }
   ],
   "source": [
    "\"a\\nb\\nc\".splitlines(\",\")"
   ]
  },
  {
   "cell_type": "code",
   "execution_count": 61,
   "id": "42c15381-555f-480e-b132-2d7b11c0f96f",
   "metadata": {},
   "outputs": [
    {
     "data": {
      "text/plain": [
       "['a b', 'c']"
      ]
     },
     "execution_count": 61,
     "metadata": {},
     "output_type": "execute_result"
    }
   ],
   "source": [
    "\"a b c\".rsplit(\" \",1)"
   ]
  },
  {
   "cell_type": "code",
   "execution_count": 62,
   "id": "75940bc6-6039-48b8-abc1-e35d01f5f76f",
   "metadata": {},
   "outputs": [
    {
     "data": {
      "text/plain": [
       "('a', '=', 'b=c')"
      ]
     },
     "execution_count": 62,
     "metadata": {},
     "output_type": "execute_result"
    }
   ],
   "source": [
    "\"a=b=c\".partition(\"=\")"
   ]
  },
  {
   "cell_type": "code",
   "execution_count": 64,
   "id": "a63437eb-79a4-4837-8baf-6fea1b0ca91f",
   "metadata": {},
   "outputs": [
    {
     "data": {
      "text/plain": [
       "' World. My name is Harsh Kumar'"
      ]
     },
     "execution_count": 64,
     "metadata": {},
     "output_type": "execute_result"
    }
   ],
   "source": [
    "str.removeprefix('hello')"
   ]
  },
  {
   "cell_type": "code",
   "execution_count": 65,
   "id": "16c13291-0371-4879-8987-fc058a68fb0b",
   "metadata": {},
   "outputs": [
    {
     "data": {
      "text/plain": [
       "'hello World. My name is Harsh '"
      ]
     },
     "execution_count": 65,
     "metadata": {},
     "output_type": "execute_result"
    }
   ],
   "source": [
    "str.removesuffix('Kumar')"
   ]
  },
  {
   "cell_type": "code",
   "execution_count": 66,
   "id": "bc162925-f26b-457d-bc23-e0c3c35b7226",
   "metadata": {},
   "outputs": [
    {
     "data": {
      "text/plain": [
       "'hello World. My name a Harsh Kumar'"
      ]
     },
     "execution_count": 66,
     "metadata": {},
     "output_type": "execute_result"
    }
   ],
   "source": [
    "str.replace(\"is\", \"a\")"
   ]
  },
  {
   "cell_type": "code",
   "execution_count": 69,
   "id": "4d1ce420-3873-439d-b40d-6e27040151cc",
   "metadata": {},
   "outputs": [
    {
     "data": {
      "text/plain": [
       "'1ppl2'"
      ]
     },
     "execution_count": 69,
     "metadata": {},
     "output_type": "execute_result"
    }
   ],
   "source": [
    "trans = str.maketrans(\"ae\", \"12\")\n",
    "(\"apple\".translate(trans))"
   ]
  },
  {
   "cell_type": "code",
   "execution_count": 73,
   "id": "96777128-caf9-4176-a875-e0d26d7c8c55",
   "metadata": {},
   "outputs": [
    {
     "data": {
      "text/plain": [
       "'00000hello World. My name is Harsh Kumar'"
      ]
     },
     "execution_count": 73,
     "metadata": {},
     "output_type": "execute_result"
    }
   ],
   "source": [
    "str.zfill(40)"
   ]
  },
  {
   "cell_type": "code",
   "execution_count": null,
   "id": "e42fd5a5-0b26-4e99-89e6-f1942b44c322",
   "metadata": {},
   "outputs": [],
   "source": []
  }
 ],
 "metadata": {
  "kernelspec": {
   "display_name": "Python [conda env:base] *",
   "language": "python",
   "name": "conda-base-py"
  },
  "language_info": {
   "codemirror_mode": {
    "name": "ipython",
    "version": 3
   },
   "file_extension": ".py",
   "mimetype": "text/x-python",
   "name": "python",
   "nbconvert_exporter": "python",
   "pygments_lexer": "ipython3",
   "version": "3.13.5"
  }
 },
 "nbformat": 4,
 "nbformat_minor": 5
}
