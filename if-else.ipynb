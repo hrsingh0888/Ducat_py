{
 "cells": [
  {
   "cell_type": "markdown",
   "id": "e5a22220-1563-4dec-bf74-42c38914ff3f",
   "metadata": {},
   "source": [
    "Q1. Write a program to calculate the electricity bill\n",
    "using only if statement? (accept number of unit from user)\n",
    "according to the following criteria:\n",
    "\n",
    "Unit Price\n",
    "First 100 units no charge\n",
    "Next 100 units Rs 5 per unit\n",
    "After 200 units Rs 10 per unit\n",
    "(For example, if input unit is 350 than total bill amount is Rs2000). Lets explain...\n",
    "For first 100 no charges\n",
    "Now you have 250 unit remaining\n",
    "100-200 you need to pay – 100*5 = 500\n",
    "Now 200-100 you need to pay 150*10 = 1500\n",
    "Total = 500+1500 = 2000"
   ]
  },
  {
   "cell_type": "code",
   "execution_count": 33,
   "id": "0de80b2d-8b56-4bf8-bd1d-497085eb2bcb",
   "metadata": {},
   "outputs": [
    {
     "name": "stdin",
     "output_type": "stream",
     "text": [
      "Enter the electricity unit: 350\n"
     ]
    },
    {
     "name": "stdout",
     "output_type": "stream",
     "text": [
      "Total electricity bill: Rs 2000\n"
     ]
    }
   ],
   "source": [
    "unit = int(input(\"Enter the electricity unit:\"))\n",
    "bill = 0\n",
    "if (unit <= 100):\n",
    "    bil = 0\n",
    "    \n",
    "if (unit>100) and (unit <= 200):\n",
    "    bill = (units - 100) * 5\n",
    "    \n",
    "if unit > 200:\n",
    "      bill = (100 * 5) + ((unit - 200) * 10)\n",
    "   \n",
    "print(\"Total electricity bill: Rs\", bill)    "
   ]
  },
  {
   "cell_type": "markdown",
   "id": "269d8343-748f-408e-91e4-0e106a14de02",
   "metadata": {},
   "source": [
    "Q2. Write a program to accept percentage from the user and display\n",
    "the grade according to the following criteria:\n",
    "\n",
    "Marks Grade\n",
    "> 90 A\n",
    "> 80 and <= 90 B\n",
    ">= 60 and <= 80 C\n",
    "below 60 D*/"
   ]
  },
  {
   "cell_type": "code",
   "execution_count": 6,
   "id": "22b92783-1eb0-4de4-91f6-e44199af9245",
   "metadata": {},
   "outputs": [
    {
     "name": "stdin",
     "output_type": "stream",
     "text": [
      "Enter the percentage 80\n"
     ]
    },
    {
     "name": "stdout",
     "output_type": "stream",
     "text": [
      "Grade C\n"
     ]
    }
   ],
   "source": [
    "percent = int(input(\"Enter the percentage\"))\n",
    "\n",
    "if (percent > 90):\n",
    "    print(\"Grade A\")\n",
    "elif (percent <= 90 and percent > 80):\n",
    "    print(\"Grade B\")\n",
    "elif (percent <= 80 and percent >= 60):\n",
    "    print(\"Grade C\")\n",
    "else:\n",
    "    print(\"Grade D\")"
   ]
  },
  {
   "cell_type": "markdown",
   "id": "53f6e6fa-b60d-41e9-9979-5f1cc72fbfe6",
   "metadata": {},
   "source": [
    "Q3. Accept the age of 4 people and display the youngest one?"
   ]
  },
  {
   "cell_type": "code",
   "execution_count": 1,
   "id": "a8966838-7b63-44f5-9ce4-2a497414925e",
   "metadata": {},
   "outputs": [
    {
     "name": "stdin",
     "output_type": "stream",
     "text": [
      "Enter the age 12\n",
      "Enter the age 14\n",
      "Enter the age 28\n",
      "Enter the age 30\n"
     ]
    },
    {
     "name": "stdout",
     "output_type": "stream",
     "text": [
      "a is younger\n"
     ]
    }
   ],
   "source": [
    "a = int(input(\"Enter the age\"))\n",
    "b = int(input(\"Enter the age\"))\n",
    "c = int(input(\"Enter the age\"))\n",
    "d = int(input(\"Enter the age\"))\n",
    "\n",
    "if (a<b) and(a<c) and (a<d):\n",
    "    print(\"a is younger\")\n",
    "elif (b<a) and(b<c) and (b<d):\n",
    "    print(\"b is younger\")\n",
    "elif (c<a) and(c<b) and (c<d):\n",
    "    print(\"c is younger\")\n",
    "else:\n",
    "    print(\"d is younger\")\n"
   ]
  },
  {
   "cell_type": "markdown",
   "id": "79b1b0e0-1810-4d82-b2c8-725f4f798c99",
   "metadata": {},
   "source": [
    "Q4. A company decided to give bonus to employee\n",
    "according to following criteria:\n",
    "\n",
    "Time period of Service Bonus\n",
    "\n",
    "More than 10 years 10%\n",
    "\n",
    ">=6 and <=10 8%\n",
    "\n",
    "Less than 6 years 5%\n",
    "\n",
    "Ask user for their salary and years of service and print the\n",
    "net bonus amount?"
   ]
  },
  {
   "cell_type": "code",
   "execution_count": 7,
   "id": "1bca7e4f-78f1-4fcc-8069-b1e4cbbf87d3",
   "metadata": {},
   "outputs": [
    {
     "name": "stdin",
     "output_type": "stream",
     "text": [
      "Enter your salary: 45000\n",
      "Enter your years of services: 7\n"
     ]
    },
    {
     "name": "stdout",
     "output_type": "stream",
     "text": [
      "Your bonus is: 3600.0\n"
     ]
    }
   ],
   "source": [
    "salary = float(input(\"Enter your salary:\"))\n",
    "years = int(input(\"Enter your years of services:\"))\n",
    "\n",
    "if (years>10):\n",
    "    print(\"Your bonus is:\", (salary * 0.10))\n",
    "if (years>=6) and (years<=10):\n",
    "    print(\"Your bonus is:\", (salary * 0.08))\n",
    "else:\n",
    "     print(\"Your bonus is:\", (salary * 0.05))"
   ]
  },
  {
   "cell_type": "markdown",
   "id": "5054089b-0f87-401a-851a-976d13fdff89",
   "metadata": {},
   "source": [
    "Q5. Accept three numbers from the user and\n",
    "display the second largest number?"
   ]
  },
  {
   "cell_type": "code",
   "execution_count": 15,
   "id": "83cf4773-8109-44de-82c3-a1710ab42bfe",
   "metadata": {},
   "outputs": [
    {
     "name": "stdin",
     "output_type": "stream",
     "text": [
      "Enter the first number: 10\n",
      "Enter the second number: 30\n",
      "Enter the third number: 20\n"
     ]
    },
    {
     "name": "stdout",
     "output_type": "stream",
     "text": [
      "The second largest number is 20\n"
     ]
    }
   ],
   "source": [
    "num1 = int(input(\"Enter the first number:\"))\n",
    "num2 = int(input(\"Enter the second number:\"))\n",
    "num3 = int(input(\"Enter the third number:\"))\n",
    "\n",
    "if (num1>num2) and (num1<num3) or (num1<num2) and (num1>num3):\n",
    "    print(\"The second largest number is\", num1)\n",
    "elif (num2>num1) and (num2<num3) or (num2<num1) and (num2>num3):\n",
    "    print(\"The second largest number is\", num2)\n",
    "else:\n",
    "     print(\"The second largest number is\", num3)"
   ]
  },
  {
   "cell_type": "markdown",
   "id": "25d7482a-3061-450e-af81-f339f588b44b",
   "metadata": {},
   "source": [
    "Q6. Accept the marked price from the user and calculate\n",
    "the Net amount as (Marked Price – Discount) to pay\n",
    "according to following criteria:\n",
    "\n",
    "Marked Price Discount\n",
    ">10000 20%\n",
    ">7000 and <=10000 15%\n",
    "<=7000 10%"
   ]
  },
  {
   "cell_type": "code",
   "execution_count": 18,
   "id": "bc82b0d9-1160-42ef-8abb-0370e1694b69",
   "metadata": {},
   "outputs": [
    {
     "name": "stdin",
     "output_type": "stream",
     "text": [
      "Enter teh marked price: 6000\n"
     ]
    },
    {
     "name": "stdout",
     "output_type": "stream",
     "text": [
      "The net amount after discount is: 5400.0\n"
     ]
    }
   ],
   "source": [
    "mp = int(input(\"Enter teh marked price:\"))\n",
    "\n",
    "if(mp>10000):\n",
    "    print(\"The net amount after discount is:\",(mp-(mp*0.20)))\n",
    "elif(mp<=10000) and (mp>7000):\n",
    "    print(\"The net amount after discount is:\",(mp-(mp*0.15)))\n",
    "else:\n",
    "    print(\"The net amount after discount is:\",(mp-(mp*0.10)))"
   ]
  },
  {
   "cell_type": "markdown",
   "id": "42b3a85a-531a-4949-8209-1975eeb22fb4",
   "metadata": {},
   "source": [
    "Q7. Accept the marks of English, Math and Science,\n",
    "Social Studies Subject and display the stream allotted\n",
    "according to following:\n",
    "\n",
    "All Subjects more than 80 marks — Science Stream\n",
    "\n",
    "English >80 and Math, Science above 50 — Commerce Stream\n",
    "\n",
    "English > 80 and social studies > 80 — Humanities"
   ]
  },
  {
   "cell_type": "code",
   "execution_count": 21,
   "id": "719783cc-afd5-4167-a564-a02af766ae06",
   "metadata": {},
   "outputs": [
    {
     "name": "stdin",
     "output_type": "stream",
     "text": [
      "Enter your english number: 87\n",
      "Enter your maths number: 56\n",
      "Enter your science number: 70\n",
      "Enter your sst number: 0\n"
     ]
    },
    {
     "name": "stdout",
     "output_type": "stream",
     "text": [
      "The allotted stream is commerce\n"
     ]
    }
   ],
   "source": [
    "english = float(input(\"Enter your english number:\"))\n",
    "maths = float(input(\"Enter your maths number:\"))\n",
    "science = float(input(\"Enter your science number:\"))\n",
    "sst = float(input(\"Enter your sst number:\"))\n",
    "\n",
    "if (english > 80) and (maths > 80) and (science>80) and (sst>80):\n",
    "    print(\"The allotted stream is science\")\n",
    "elif(english >80) and (maths > 50) and (science>50):\n",
    "    print(\"The allotted stream is commerce\")\n",
    "elif (english >80) and (sst>80):\n",
    "    print(\"The allotted stream is humanities\")"
   ]
  },
  {
   "cell_type": "markdown",
   "id": "620ad9b5-ec50-4859-8e1e-98e49d592ced",
   "metadata": {},
   "source": [
    "Q8. Write a program to display \"Hello\" if a number entered\n",
    "by user is a multiple of five, otherwise print \"Bye\"?"
   ]
  },
  {
   "cell_type": "code",
   "execution_count": 24,
   "id": "362cdd74-25f0-475c-8a78-983cdff7dd24",
   "metadata": {},
   "outputs": [
    {
     "name": "stdin",
     "output_type": "stream",
     "text": [
      "Enter the number: 13\n"
     ]
    },
    {
     "name": "stdout",
     "output_type": "stream",
     "text": [
      "Bye\n"
     ]
    }
   ],
   "source": [
    "num = int(input(\"Enter the number:\"))\n",
    "\n",
    "if (num%5 == 0):\n",
    "    print(\"Hello\")\n",
    "else:\n",
    "    print(\"Bye\")"
   ]
  },
  {
   "cell_type": "markdown",
   "id": "0b24276a-8cde-4355-8935-87307e245275",
   "metadata": {},
   "source": [
    "Q9. Write a program to check whether the last digit of a number\n",
    "(entered by user) is divisible by 3 or not?"
   ]
  },
  {
   "cell_type": "code",
   "execution_count": 25,
   "id": "80ff1d5d-e09f-4346-a306-9c846fd58fff",
   "metadata": {},
   "outputs": [
    {
     "name": "stdin",
     "output_type": "stream",
     "text": [
      "Enter the number: 1126\n"
     ]
    },
    {
     "name": "stdout",
     "output_type": "stream",
     "text": [
      "Yes, the last digit is divisible by 3.\n"
     ]
    }
   ],
   "source": [
    "num = int(input(\"Enter the number:\"))\n",
    "last_digit = num%10\n",
    "if last_digit % 3 == 0:\n",
    "    print(\"Yes, the last digit is divisible by 3.\")\n",
    "else:\n",
    "    print(\"No, the last digit is not divisible by 3.\")"
   ]
  },
  {
   "cell_type": "markdown",
   "id": "8ef71a39-0886-4598-a388-097ce8ae1426",
   "metadata": {},
   "source": [
    "Q10. Write a program to check whether a number entered\n",
    "is three-digit number or not?"
   ]
  },
  {
   "cell_type": "code",
   "execution_count": 29,
   "id": "f5be7511-653e-4ad2-9e1f-d81dede1e59d",
   "metadata": {},
   "outputs": [
    {
     "name": "stdin",
     "output_type": "stream",
     "text": [
      "Enter the number: 999\n"
     ]
    },
    {
     "name": "stdout",
     "output_type": "stream",
     "text": [
      "Yes, it is a three-digit number.\n"
     ]
    }
   ],
   "source": [
    "num = int(input(\"Enter the number:\"))\n",
    "\n",
    "if (num >= 100) and (num <= 999):\n",
    "    print(\"Yes, it is a three-digit number.\")\n",
    "else:\n",
    "    print(\"No, it is not a three-digit number.\")"
   ]
  }
 ],
 "metadata": {
  "kernelspec": {
   "display_name": "Python [conda env:base] *",
   "language": "python",
   "name": "conda-base-py"
  },
  "language_info": {
   "codemirror_mode": {
    "name": "ipython",
    "version": 3
   },
   "file_extension": ".py",
   "mimetype": "text/x-python",
   "name": "python",
   "nbconvert_exporter": "python",
   "pygments_lexer": "ipython3",
   "version": "3.13.5"
  }
 },
 "nbformat": 4,
 "nbformat_minor": 5
}
