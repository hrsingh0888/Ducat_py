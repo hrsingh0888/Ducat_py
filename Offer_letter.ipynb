{
 "cells": [
  {
   "cell_type": "code",
   "execution_count": null,
   "id": "4ae758c8-2d6a-4b35-8367-5a28060ea6bf",
   "metadata": {},
   "outputs": [],
   "source": [
    "from datetime import datetime\n",
    "candidate_name = input(\"Enter candidate name: \")\n",
    "job_title = input(\"Enter job title: \")\n",
    "joining_date = input(\"Enter joining date(DD-MM-YYYY): \")\n",
    "salary = input(\"Enter your salary: \")\n",
    "hr_name = input(\"Enter hr name: \")\n",
    "hr_email = input(\"Enter hr email: \")\n",
    "\n",
    "letter = f\"\"\"\n",
    "Dear {candidate_name},\n",
    "\n",
    "Subject: Offer of Employment for the position of {job_title}\n",
    "\n",
    "We are delighted to extend this formal offer of employment to you for the position of {job_title} at our organization. Based on your qualifications and the skills you demonstrated during the recruitment process, we are confident that you will be a valuable addition to our team.\n",
    "\n",
    "As discussed, your expected date of joining is {joining_date}. Your total compensation package will be {salary}, which includes all salary components as per the company’s policy. Further details regarding your compensation will be provided in your employment contract.\n",
    "\n",
    "We expect you to bring your best efforts to help the company achieve its goals, and we are committed to supporting your professional growth during your time with us.\n",
    "\n",
    "Please confirm your acceptance of this offer by sending an email to {hr_email} at your earliest convenience. If you have any questions regarding this offer, please don't hesitate to contact us.\n",
    "\n",
    "We look forward to having you onboard and are excited about the great things we can accomplish together.\n",
    "\n",
    "Sincerely,  \n",
    "{hr_name}  \n",
    "HR Manager\n",
    "\"\"\"\n",
    "\n",
    "with open(\"Offer_Letter.txt\", \"w\") as file:\n",
    "    file.write(letter)\n",
    "\n",
    "print(\"✅ Offer letter generated and saved as 'Offer_Letter.txt'\")"
   ]
  },
  {
   "cell_type": "code",
   "execution_count": null,
   "id": "efa9ebcf-f326-4ccd-afc5-d138e08ee6be",
   "metadata": {},
   "outputs": [],
   "source": []
  }
 ],
 "metadata": {
  "kernelspec": {
   "display_name": "Python [conda env:base] *",
   "language": "python",
   "name": "conda-base-py"
  },
  "language_info": {
   "codemirror_mode": {
    "name": "ipython",
    "version": 3
   },
   "file_extension": ".py",
   "mimetype": "text/x-python",
   "name": "python",
   "nbconvert_exporter": "python",
   "pygments_lexer": "ipython3",
   "version": "3.13.5"
  }
 },
 "nbformat": 4,
 "nbformat_minor": 5
}
