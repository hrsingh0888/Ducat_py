{
 "cells": [
  {
   "cell_type": "markdown",
   "id": "565e2f5a-a91a-4597-aae2-05d947aa0828",
   "metadata": {},
   "source": [
    "Question 1: Write a Python program to print all the numbers from 1 to 10 using a for loop."
   ]
  },
  {
   "cell_type": "code",
   "execution_count": 2,
   "id": "5306f501-06b3-4e8e-b82e-d21769972b1b",
   "metadata": {},
   "outputs": [
    {
     "name": "stdout",
     "output_type": "stream",
     "text": [
      "1\n",
      "2\n",
      "3\n",
      "4\n",
      "5\n",
      "6\n",
      "7\n",
      "8\n",
      "9\n",
      "10\n"
     ]
    }
   ],
   "source": [
    "for num in range(1,11):\n",
    "    print(num)"
   ]
  },
  {
   "cell_type": "markdown",
   "id": "36f96bd3-1d9c-4c39-adf2-903f259a20b2",
   "metadata": {},
   "source": [
    "Question 2: Write a Python program to find the sum of all numbers from 1 to 100 using a for\n",
    "loop."
   ]
  },
  {
   "cell_type": "code",
   "execution_count": 6,
   "id": "33b9e69c-72e6-45e4-97c1-22df6f69b403",
   "metadata": {},
   "outputs": [
    {
     "name": "stdout",
     "output_type": "stream",
     "text": [
      "1\n",
      "3\n",
      "6\n",
      "10\n",
      "15\n",
      "21\n",
      "28\n",
      "36\n",
      "45\n",
      "55\n",
      "66\n",
      "78\n",
      "91\n",
      "105\n",
      "120\n",
      "136\n",
      "153\n",
      "171\n",
      "190\n",
      "210\n",
      "231\n",
      "253\n",
      "276\n",
      "300\n",
      "325\n",
      "351\n",
      "378\n",
      "406\n",
      "435\n",
      "465\n",
      "496\n",
      "528\n",
      "561\n",
      "595\n",
      "630\n",
      "666\n",
      "703\n",
      "741\n",
      "780\n",
      "820\n",
      "861\n",
      "903\n",
      "946\n",
      "990\n",
      "1035\n",
      "1081\n",
      "1128\n",
      "1176\n",
      "1225\n",
      "1275\n",
      "1326\n",
      "1378\n",
      "1431\n",
      "1485\n",
      "1540\n",
      "1596\n",
      "1653\n",
      "1711\n",
      "1770\n",
      "1830\n",
      "1891\n",
      "1953\n",
      "2016\n",
      "2080\n",
      "2145\n",
      "2211\n",
      "2278\n",
      "2346\n",
      "2415\n",
      "2485\n",
      "2556\n",
      "2628\n",
      "2701\n",
      "2775\n",
      "2850\n",
      "2926\n",
      "3003\n",
      "3081\n",
      "3160\n",
      "3240\n",
      "3321\n",
      "3403\n",
      "3486\n",
      "3570\n",
      "3655\n",
      "3741\n",
      "3828\n",
      "3916\n",
      "4005\n",
      "4095\n",
      "4186\n",
      "4278\n",
      "4371\n",
      "4465\n",
      "4560\n",
      "4656\n",
      "4753\n",
      "4851\n",
      "4950\n",
      "5050\n"
     ]
    }
   ],
   "source": [
    "sum = 0\n",
    "for i in range(1,101):\n",
    "    sum = sum+i\n",
    "    print(sum)"
   ]
  },
  {
   "cell_type": "markdown",
   "id": "278a0eb9-03e4-4feb-a064-ce49d011c88c",
   "metadata": {},
   "source": [
    "Question 3: Write a Python program to print the multiplication table of a given number using a\n",
    "for loop."
   ]
  },
  {
   "cell_type": "code",
   "execution_count": 7,
   "id": "203e0816-175e-46af-9e05-9fa3ceb90b8d",
   "metadata": {},
   "outputs": [
    {
     "name": "stdin",
     "output_type": "stream",
     "text": [
      "Enter the number: 5\n"
     ]
    },
    {
     "name": "stdout",
     "output_type": "stream",
     "text": [
      "5\n",
      "10\n",
      "15\n",
      "20\n",
      "25\n",
      "30\n",
      "35\n",
      "40\n",
      "45\n",
      "50\n"
     ]
    }
   ],
   "source": [
    "num = int(input(\"Enter the number:\"))\n",
    "for i in range(1,11):\n",
    "    table = num*i\n",
    "    print(table)"
   ]
  },
  {
   "cell_type": "code",
   "execution_count": 16,
   "id": "0af15490-dfe3-424a-9806-6b38f272eb1a",
   "metadata": {},
   "outputs": [
    {
     "name": "stdout",
     "output_type": "stream",
     "text": [
      "Total count of even number is: 5\n",
      "Total count of even number is: 5\n",
      "Total count of even number is: 5\n",
      "Total count of even number is: 5\n",
      "Total count of even number is: 5\n",
      "Total count of even numbers is: 5\n",
      "Total count of odd numbers is: 5\n"
     ]
    }
   ],
   "source": [
    "list = [1,2,3,4,5,6,7,8,9,10]\n",
    "even_count = 0\n",
    "odd_count = 0\n",
    "for i in list:\n",
    "    if i%2 == 0:\n",
    "        even_count +=1\n",
    "        print(\"Total count of even number is:\", (num))\n",
    "    else:\n",
    "        odd_count +=1\n",
    "print(\"Total count of even numbers is:\", even_count)\n",
    "print(\"Total count of odd numbers is:\", odd_count)"
   ]
  },
  {
   "cell_type": "markdown",
   "id": "2ca739cd-6d50-4eef-8313-b738db585ae8",
   "metadata": {},
   "source": [
    "Question 5: Write a Python program to find the factorial of a number using a for loop."
   ]
  },
  {
   "cell_type": "code",
   "execution_count": 2,
   "id": "7be6738b-c83d-43eb-a10f-de5ca2a8fe33",
   "metadata": {},
   "outputs": [
    {
     "name": "stdin",
     "output_type": "stream",
     "text": [
      "Enter a number to find its factorial:  5\n"
     ]
    },
    {
     "name": "stdout",
     "output_type": "stream",
     "text": [
      "The factorial of 5 is 120.\n"
     ]
    }
   ],
   "source": [
    "num = int(input(\"Enter a number to find its factorial: \"))\n",
    "factorial = 1\n",
    "if num < 0:\n",
    "    print(\"Factorial does not exist for negative numbers.\")\n",
    "elif num == 0:\n",
    "    print(\"The factorial of 0 is 1.\")\n",
    "else:\n",
    "    for i in range(1, num + 1):\n",
    "        factorial *= i\n",
    "    print(f\"The factorial of {num} is {factorial}.\")"
   ]
  },
  {
   "cell_type": "markdown",
   "id": "299059d4-2791-49fd-9b97-f7a91e3dba59",
   "metadata": {},
   "source": [
    "Question 6: Write a Python program to print the Fibonacci sequence up to a specified number\n",
    "using a for loop."
   ]
  },
  {
   "cell_type": "code",
   "execution_count": 6,
   "id": "0b4586ec-845b-492f-80f4-f20be7e95fb2",
   "metadata": {},
   "outputs": [
    {
     "name": "stdin",
     "output_type": "stream",
     "text": [
      "Enter a number to find its fibonacci sequence:  5\n"
     ]
    },
    {
     "name": "stdout",
     "output_type": "stream",
     "text": [
      "fibonacci series upto 5 :\n",
      "0 1 1 2 3 "
     ]
    }
   ],
   "source": [
    "num = int(input(\"Enter a number to find its fibonacci sequence: \"))\n",
    "a, b = 0,1\n",
    "print(\"fibonacci series upto\",num,\":\")\n",
    "for _ in range(num):\n",
    "    if a>num:\n",
    "        break\n",
    "    print(a, end=\" \")\n",
    "    a, b = b, a+b"
   ]
  },
  {
   "cell_type": "markdown",
   "id": "34f3f80e-8640-42c7-8b15-d1127894dddc",
   "metadata": {},
   "source": [
    "Question 7: Write a Python program to check if a given number is prime or not using a for loop."
   ]
  },
  {
   "cell_type": "code",
   "execution_count": 11,
   "id": "69f621fc-57dc-413e-91ba-655811e92016",
   "metadata": {},
   "outputs": [
    {
     "name": "stdin",
     "output_type": "stream",
     "text": [
      "Enter a number: 13\n"
     ]
    },
    {
     "name": "stdout",
     "output_type": "stream",
     "text": [
      "The given number is prime\n"
     ]
    }
   ],
   "source": [
    "num = int(input(\"Enter a number:\"))\n",
    "if num <= 1:\n",
    "    print(\"The given number is not prime\")\n",
    "elif num%1==0 and num%num == 0 and num%2!=0:\n",
    "    print(\"The given number is prime\")\n",
    "else:\n",
    "     print(\"The given number is not prime\")"
   ]
  },
  {
   "cell_type": "markdown",
   "id": "8db49371-28c1-47af-b173-c6cd3ca3979b",
   "metadata": {},
   "source": [
    "Question 8: Write a Python program to find the largest element in a list using a for loop."
   ]
  },
  {
   "cell_type": "code",
   "execution_count": 14,
   "id": "2b710747-a106-4f9c-acff-ff6afe464b2c",
   "metadata": {},
   "outputs": [
    {
     "name": "stdout",
     "output_type": "stream",
     "text": [
      "The largest element in the list is: 89\n"
     ]
    }
   ],
   "source": [
    "numbers = [12, 45, 2, 89, 33, 67, 5]\n",
    "largest = numbers[0]\n",
    "for num in numbers:\n",
    "    if num > largest:\n",
    "        largest = num\n",
    "print(\"The largest element in the list is:\", largest)\n"
   ]
  },
  {
   "cell_type": "markdown",
   "id": "d7b6990e-1372-4864-8899-57b71975cd11",
   "metadata": {},
   "source": [
    "Question 9: Write a Python program to reverse a given string using a for loop."
   ]
  },
  {
   "cell_type": "code",
   "execution_count": 16,
   "id": "0f595b10-77a4-4acf-b135-b368bf134017",
   "metadata": {},
   "outputs": [
    {
     "name": "stdout",
     "output_type": "stream",
     "text": [
      "Reverse string: gnirts eht retnE\n"
     ]
    }
   ],
   "source": [
    "input_string = (\"Enter the string\")\n",
    "reverse_string = \"\"\n",
    "for char in input_string:\n",
    "    reverse_string = char + reverse_string\n",
    "print(\"Reverse string:\", reverse_string)"
   ]
  },
  {
   "cell_type": "markdown",
   "id": "f194c0a0-86fa-48cd-a6dd-fed8c1e0fad3",
   "metadata": {},
   "source": [
    "Question 10: Write a Python program to find the common elements between two lists using a\n",
    "for loop.\n",
    "List1 = [1,2,3]\n",
    "List2 = [4,5,1]"
   ]
  },
  {
   "cell_type": "code",
   "execution_count": null,
   "id": "2077f738-7425-486c-b5b1-3cc9e6ee45eb",
   "metadata": {},
   "outputs": [],
   "source": [
    "List1 = [1,2,3] \n",
    "List2 = [4,5,1]\n",
    "common_element = []\n",
    "for items in List1:\n",
    "    if items in List2:\n",
    "        common_element.append(i"
   ]
  }
 ],
 "metadata": {
  "kernelspec": {
   "display_name": "Python [conda env:base] *",
   "language": "python",
   "name": "conda-base-py"
  },
  "language_info": {
   "codemirror_mode": {
    "name": "ipython",
    "version": 3
   },
   "file_extension": ".py",
   "mimetype": "text/x-python",
   "name": "python",
   "nbconvert_exporter": "python",
   "pygments_lexer": "ipython3",
   "version": "3.13.5"
  }
 },
 "nbformat": 4,
 "nbformat_minor": 5
}
